{
 "cells": [
  {
   "cell_type": "markdown",
   "id": "d68b9774",
   "metadata": {},
   "source": [
    "# Logistic Regression"
   ]
  },
  {
   "attachments": {},
   "cell_type": "markdown",
   "id": "ec407332",
   "metadata": {},
   "source": [
    "*CS 334 - Algorithms of Machine Learning | Conrad Kennington*"
   ]
  },
  {
   "cell_type": "markdown",
   "id": "cca52e34",
   "metadata": {},
   "source": [
    "*Computer Science | Boise State University*"
   ]
  },
  {
   "cell_type": "markdown",
   "id": "a90376b6",
   "metadata": {},
   "source": [
    "*14.09.2022 | Fall 2022*"
   ]
  },
  {
   "cell_type": "markdown",
   "id": "ec118e30",
   "metadata": {},
   "source": [
    "*Aida Gomezbueno Berezo | aidagomezbuenobe@u.boisestate.edu*"
   ]
  },
  {
   "cell_type": "code",
   "execution_count": 1,
   "id": "76d24d7b",
   "metadata": {},
   "outputs": [],
   "source": [
    "%matplotlib inline\n",
    "import numpy as np\n",
    "import matplotlib.pyplot as plt\n",
    "import pandas as pd\n",
    "import sklearn\n",
    "import seaborn as sns\n",
    "import statsmodels.api as sm\n",
    "from sklearn.model_selection import train_test_split\n",
    "from sklearn.linear_model import LogisticRegression\n",
    "from sklearn import metrics"
   ]
  },
  {
   "cell_type": "markdown",
   "id": "fecbd089",
   "metadata": {},
   "source": [
    "## Find some data"
   ]
  },
  {
   "cell_type": "code",
   "execution_count": 2,
   "id": "2d0eb8c2",
   "metadata": {},
   "outputs": [
    {
     "data": {
      "text/html": [
       "<div>\n",
       "<style scoped>\n",
       "    .dataframe tbody tr th:only-of-type {\n",
       "        vertical-align: middle;\n",
       "    }\n",
       "\n",
       "    .dataframe tbody tr th {\n",
       "        vertical-align: top;\n",
       "    }\n",
       "\n",
       "    .dataframe thead th {\n",
       "        text-align: right;\n",
       "    }\n",
       "</style>\n",
       "<table border=\"1\" class=\"dataframe\">\n",
       "  <thead>\n",
       "    <tr style=\"text-align: right;\">\n",
       "      <th></th>\n",
       "      <th>Name</th>\n",
       "      <th>Datetime</th>\n",
       "      <th>TempMax</th>\n",
       "      <th>TempMin</th>\n",
       "      <th>Temp</th>\n",
       "      <th>Feelslikemax</th>\n",
       "      <th>Feelslikemin</th>\n",
       "      <th>Feelslike</th>\n",
       "      <th>Dew</th>\n",
       "      <th>Humidity</th>\n",
       "      <th>...</th>\n",
       "      <th>SolarEnergy</th>\n",
       "      <th>UVIndex</th>\n",
       "      <th>Sunrise</th>\n",
       "      <th>Sunset</th>\n",
       "      <th>MoonPhase</th>\n",
       "      <th>Conditions</th>\n",
       "      <th>Description</th>\n",
       "      <th>Icon</th>\n",
       "      <th>Stations</th>\n",
       "      <th>Label</th>\n",
       "    </tr>\n",
       "  </thead>\n",
       "  <tbody>\n",
       "    <tr>\n",
       "      <th>0</th>\n",
       "      <td>Boise</td>\n",
       "      <td>8/1/21</td>\n",
       "      <td>27.2</td>\n",
       "      <td>20.6</td>\n",
       "      <td>23.3</td>\n",
       "      <td>28.2</td>\n",
       "      <td>20.6</td>\n",
       "      <td>23.5</td>\n",
       "      <td>18.9</td>\n",
       "      <td>77.7</td>\n",
       "      <td>...</td>\n",
       "      <td>11.9</td>\n",
       "      <td>8</td>\n",
       "      <td>2021-08-01T06:34:26</td>\n",
       "      <td>2021-08-01T21:07:05</td>\n",
       "      <td>0.80</td>\n",
       "      <td>Rain, Partially cloudy</td>\n",
       "      <td>Partly cloudy throughout the day with a chance...</td>\n",
       "      <td>rain</td>\n",
       "      <td>KBOI,KEUL,72681524106,BOII,TS587,72681394195,7...</td>\n",
       "      <td>1</td>\n",
       "    </tr>\n",
       "    <tr>\n",
       "      <th>1</th>\n",
       "      <td>Boise</td>\n",
       "      <td>8/2/21</td>\n",
       "      <td>33.4</td>\n",
       "      <td>20.6</td>\n",
       "      <td>26.6</td>\n",
       "      <td>32.1</td>\n",
       "      <td>20.6</td>\n",
       "      <td>26.3</td>\n",
       "      <td>16.4</td>\n",
       "      <td>58.7</td>\n",
       "      <td>...</td>\n",
       "      <td>26.0</td>\n",
       "      <td>9</td>\n",
       "      <td>2021-08-02T06:35:30</td>\n",
       "      <td>2021-08-02T21:05:52</td>\n",
       "      <td>0.84</td>\n",
       "      <td>Clear</td>\n",
       "      <td>Clear conditions throughout the day.</td>\n",
       "      <td>clear-day</td>\n",
       "      <td>KBOI,KEUL,72681524106,BOII,TS587,LLAI1,7268139...</td>\n",
       "      <td>0</td>\n",
       "    </tr>\n",
       "    <tr>\n",
       "      <th>2</th>\n",
       "      <td>Boise</td>\n",
       "      <td>8/3/21</td>\n",
       "      <td>35.0</td>\n",
       "      <td>20.6</td>\n",
       "      <td>27.7</td>\n",
       "      <td>33.3</td>\n",
       "      <td>20.6</td>\n",
       "      <td>27.1</td>\n",
       "      <td>12.8</td>\n",
       "      <td>43.1</td>\n",
       "      <td>...</td>\n",
       "      <td>23.4</td>\n",
       "      <td>9</td>\n",
       "      <td>2021-08-03T06:36:35</td>\n",
       "      <td>2021-08-03T21:04:36</td>\n",
       "      <td>0.89</td>\n",
       "      <td>Rain</td>\n",
       "      <td>Clear conditions throughout the day with early...</td>\n",
       "      <td>rain</td>\n",
       "      <td>KBOI,KEUL,72681524106,BOII,TS587,LLAI1,7268139...</td>\n",
       "      <td>1</td>\n",
       "    </tr>\n",
       "    <tr>\n",
       "      <th>3</th>\n",
       "      <td>Boise</td>\n",
       "      <td>8/4/21</td>\n",
       "      <td>39.9</td>\n",
       "      <td>19.9</td>\n",
       "      <td>29.7</td>\n",
       "      <td>37.3</td>\n",
       "      <td>19.9</td>\n",
       "      <td>28.6</td>\n",
       "      <td>8.9</td>\n",
       "      <td>30.8</td>\n",
       "      <td>...</td>\n",
       "      <td>24.1</td>\n",
       "      <td>9</td>\n",
       "      <td>2021-08-04T06:37:40</td>\n",
       "      <td>2021-08-04T21:03:19</td>\n",
       "      <td>0.93</td>\n",
       "      <td>Clear</td>\n",
       "      <td>Clear conditions throughout the day.</td>\n",
       "      <td>clear-day</td>\n",
       "      <td>KBOI,KEUL,72681524106,BOII,TS587,72681394195,7...</td>\n",
       "      <td>0</td>\n",
       "    </tr>\n",
       "    <tr>\n",
       "      <th>4</th>\n",
       "      <td>Boise</td>\n",
       "      <td>8/5/21</td>\n",
       "      <td>35.6</td>\n",
       "      <td>22.8</td>\n",
       "      <td>29.4</td>\n",
       "      <td>33.4</td>\n",
       "      <td>22.8</td>\n",
       "      <td>28.3</td>\n",
       "      <td>9.0</td>\n",
       "      <td>29.3</td>\n",
       "      <td>...</td>\n",
       "      <td>20.3</td>\n",
       "      <td>9</td>\n",
       "      <td>2021-08-05T06:38:46</td>\n",
       "      <td>2021-08-05T21:02:01</td>\n",
       "      <td>0.96</td>\n",
       "      <td>Clear</td>\n",
       "      <td>Clear conditions throughout the day.</td>\n",
       "      <td>clear-day</td>\n",
       "      <td>KBOI,KEUL,72681524106,BOII,TS587,LLAI1,7268139...</td>\n",
       "      <td>0</td>\n",
       "    </tr>\n",
       "    <tr>\n",
       "      <th>...</th>\n",
       "      <td>...</td>\n",
       "      <td>...</td>\n",
       "      <td>...</td>\n",
       "      <td>...</td>\n",
       "      <td>...</td>\n",
       "      <td>...</td>\n",
       "      <td>...</td>\n",
       "      <td>...</td>\n",
       "      <td>...</td>\n",
       "      <td>...</td>\n",
       "      <td>...</td>\n",
       "      <td>...</td>\n",
       "      <td>...</td>\n",
       "      <td>...</td>\n",
       "      <td>...</td>\n",
       "      <td>...</td>\n",
       "      <td>...</td>\n",
       "      <td>...</td>\n",
       "      <td>...</td>\n",
       "      <td>...</td>\n",
       "      <td>...</td>\n",
       "    </tr>\n",
       "    <tr>\n",
       "      <th>361</th>\n",
       "      <td>Boise</td>\n",
       "      <td>7/28/22</td>\n",
       "      <td>39.3</td>\n",
       "      <td>21.7</td>\n",
       "      <td>31.1</td>\n",
       "      <td>36.9</td>\n",
       "      <td>21.7</td>\n",
       "      <td>29.8</td>\n",
       "      <td>8.9</td>\n",
       "      <td>27.5</td>\n",
       "      <td>...</td>\n",
       "      <td>29.4</td>\n",
       "      <td>10</td>\n",
       "      <td>2022-07-28T06:29:58</td>\n",
       "      <td>2022-07-28T21:12:02</td>\n",
       "      <td>1.00</td>\n",
       "      <td>Clear</td>\n",
       "      <td>Clear conditions throughout the day.</td>\n",
       "      <td>clear-day</td>\n",
       "      <td>KBOI,KEUL,72681524106,BOII,72681394195,7268102...</td>\n",
       "      <td>0</td>\n",
       "    </tr>\n",
       "    <tr>\n",
       "      <th>362</th>\n",
       "      <td>Boise</td>\n",
       "      <td>7/29/22</td>\n",
       "      <td>40.0</td>\n",
       "      <td>21.1</td>\n",
       "      <td>31.2</td>\n",
       "      <td>37.0</td>\n",
       "      <td>21.1</td>\n",
       "      <td>29.7</td>\n",
       "      <td>6.6</td>\n",
       "      <td>24.0</td>\n",
       "      <td>...</td>\n",
       "      <td>29.2</td>\n",
       "      <td>10</td>\n",
       "      <td>2022-07-29T06:31:01</td>\n",
       "      <td>2022-07-29T21:10:55</td>\n",
       "      <td>0.00</td>\n",
       "      <td>Clear</td>\n",
       "      <td>Clear conditions throughout the day.</td>\n",
       "      <td>clear-day</td>\n",
       "      <td>KBOI,KEUL,72681524106,BOII,72681394195,7268102...</td>\n",
       "      <td>0</td>\n",
       "    </tr>\n",
       "    <tr>\n",
       "      <th>363</th>\n",
       "      <td>Boise</td>\n",
       "      <td>7/30/22</td>\n",
       "      <td>39.4</td>\n",
       "      <td>21.6</td>\n",
       "      <td>31.4</td>\n",
       "      <td>36.2</td>\n",
       "      <td>21.6</td>\n",
       "      <td>29.8</td>\n",
       "      <td>4.5</td>\n",
       "      <td>21.2</td>\n",
       "      <td>...</td>\n",
       "      <td>32.2</td>\n",
       "      <td>10</td>\n",
       "      <td>2022-07-30T06:32:04</td>\n",
       "      <td>2022-07-30T21:09:46</td>\n",
       "      <td>0.01</td>\n",
       "      <td>Clear</td>\n",
       "      <td>Clear conditions throughout the day.</td>\n",
       "      <td>clear-day</td>\n",
       "      <td>KBOI,KEUL,72681524106,BOII,TT289,72681394195,7...</td>\n",
       "      <td>0</td>\n",
       "    </tr>\n",
       "    <tr>\n",
       "      <th>364</th>\n",
       "      <td>Boise</td>\n",
       "      <td>7/31/22</td>\n",
       "      <td>41.1</td>\n",
       "      <td>23.7</td>\n",
       "      <td>32.2</td>\n",
       "      <td>37.8</td>\n",
       "      <td>23.7</td>\n",
       "      <td>30.5</td>\n",
       "      <td>3.1</td>\n",
       "      <td>17.8</td>\n",
       "      <td>...</td>\n",
       "      <td>27.8</td>\n",
       "      <td>9</td>\n",
       "      <td>2022-07-31T06:33:07</td>\n",
       "      <td>2022-07-31T21:08:36</td>\n",
       "      <td>0.04</td>\n",
       "      <td>Clear</td>\n",
       "      <td>Clear conditions throughout the day.</td>\n",
       "      <td>clear-day</td>\n",
       "      <td>KBOI,KEUL,72681524106,TT289,72681394195,726810...</td>\n",
       "      <td>0</td>\n",
       "    </tr>\n",
       "    <tr>\n",
       "      <th>365</th>\n",
       "      <td>Boise</td>\n",
       "      <td>8/1/22</td>\n",
       "      <td>38.8</td>\n",
       "      <td>23.7</td>\n",
       "      <td>31.5</td>\n",
       "      <td>36.2</td>\n",
       "      <td>23.7</td>\n",
       "      <td>30.0</td>\n",
       "      <td>6.5</td>\n",
       "      <td>22.7</td>\n",
       "      <td>...</td>\n",
       "      <td>24.1</td>\n",
       "      <td>10</td>\n",
       "      <td>2022-08-01T06:34:11</td>\n",
       "      <td>2022-08-01T21:07:24</td>\n",
       "      <td>0.07</td>\n",
       "      <td>Clear</td>\n",
       "      <td>Clear conditions throughout the day.</td>\n",
       "      <td>clear-day</td>\n",
       "      <td>KBOI,KEUL,72681524106,BOII,TT289,72681394195,7...</td>\n",
       "      <td>0</td>\n",
       "    </tr>\n",
       "  </tbody>\n",
       "</table>\n",
       "<p>366 rows × 31 columns</p>\n",
       "</div>"
      ],
      "text/plain": [
       "      Name Datetime  TempMax  TempMin  Temp  Feelslikemax  Feelslikemin  \\\n",
       "0    Boise   8/1/21     27.2     20.6  23.3          28.2          20.6   \n",
       "1    Boise   8/2/21     33.4     20.6  26.6          32.1          20.6   \n",
       "2    Boise   8/3/21     35.0     20.6  27.7          33.3          20.6   \n",
       "3    Boise   8/4/21     39.9     19.9  29.7          37.3          19.9   \n",
       "4    Boise   8/5/21     35.6     22.8  29.4          33.4          22.8   \n",
       "..     ...      ...      ...      ...   ...           ...           ...   \n",
       "361  Boise  7/28/22     39.3     21.7  31.1          36.9          21.7   \n",
       "362  Boise  7/29/22     40.0     21.1  31.2          37.0          21.1   \n",
       "363  Boise  7/30/22     39.4     21.6  31.4          36.2          21.6   \n",
       "364  Boise  7/31/22     41.1     23.7  32.2          37.8          23.7   \n",
       "365  Boise   8/1/22     38.8     23.7  31.5          36.2          23.7   \n",
       "\n",
       "     Feelslike   Dew  Humidity  ...  SolarEnergy  UVIndex  \\\n",
       "0         23.5  18.9      77.7  ...         11.9        8   \n",
       "1         26.3  16.4      58.7  ...         26.0        9   \n",
       "2         27.1  12.8      43.1  ...         23.4        9   \n",
       "3         28.6   8.9      30.8  ...         24.1        9   \n",
       "4         28.3   9.0      29.3  ...         20.3        9   \n",
       "..         ...   ...       ...  ...          ...      ...   \n",
       "361       29.8   8.9      27.5  ...         29.4       10   \n",
       "362       29.7   6.6      24.0  ...         29.2       10   \n",
       "363       29.8   4.5      21.2  ...         32.2       10   \n",
       "364       30.5   3.1      17.8  ...         27.8        9   \n",
       "365       30.0   6.5      22.7  ...         24.1       10   \n",
       "\n",
       "                 Sunrise               Sunset  MoonPhase  \\\n",
       "0    2021-08-01T06:34:26  2021-08-01T21:07:05       0.80   \n",
       "1    2021-08-02T06:35:30  2021-08-02T21:05:52       0.84   \n",
       "2    2021-08-03T06:36:35  2021-08-03T21:04:36       0.89   \n",
       "3    2021-08-04T06:37:40  2021-08-04T21:03:19       0.93   \n",
       "4    2021-08-05T06:38:46  2021-08-05T21:02:01       0.96   \n",
       "..                   ...                  ...        ...   \n",
       "361  2022-07-28T06:29:58  2022-07-28T21:12:02       1.00   \n",
       "362  2022-07-29T06:31:01  2022-07-29T21:10:55       0.00   \n",
       "363  2022-07-30T06:32:04  2022-07-30T21:09:46       0.01   \n",
       "364  2022-07-31T06:33:07  2022-07-31T21:08:36       0.04   \n",
       "365  2022-08-01T06:34:11  2022-08-01T21:07:24       0.07   \n",
       "\n",
       "                 Conditions  \\\n",
       "0    Rain, Partially cloudy   \n",
       "1                     Clear   \n",
       "2                      Rain   \n",
       "3                     Clear   \n",
       "4                     Clear   \n",
       "..                      ...   \n",
       "361                   Clear   \n",
       "362                   Clear   \n",
       "363                   Clear   \n",
       "364                   Clear   \n",
       "365                   Clear   \n",
       "\n",
       "                                           Description       Icon  \\\n",
       "0    Partly cloudy throughout the day with a chance...       rain   \n",
       "1                 Clear conditions throughout the day.  clear-day   \n",
       "2    Clear conditions throughout the day with early...       rain   \n",
       "3                 Clear conditions throughout the day.  clear-day   \n",
       "4                 Clear conditions throughout the day.  clear-day   \n",
       "..                                                 ...        ...   \n",
       "361               Clear conditions throughout the day.  clear-day   \n",
       "362               Clear conditions throughout the day.  clear-day   \n",
       "363               Clear conditions throughout the day.  clear-day   \n",
       "364               Clear conditions throughout the day.  clear-day   \n",
       "365               Clear conditions throughout the day.  clear-day   \n",
       "\n",
       "                                              Stations  Label  \n",
       "0    KBOI,KEUL,72681524106,BOII,TS587,72681394195,7...      1  \n",
       "1    KBOI,KEUL,72681524106,BOII,TS587,LLAI1,7268139...      0  \n",
       "2    KBOI,KEUL,72681524106,BOII,TS587,LLAI1,7268139...      1  \n",
       "3    KBOI,KEUL,72681524106,BOII,TS587,72681394195,7...      0  \n",
       "4    KBOI,KEUL,72681524106,BOII,TS587,LLAI1,7268139...      0  \n",
       "..                                                 ...    ...  \n",
       "361  KBOI,KEUL,72681524106,BOII,72681394195,7268102...      0  \n",
       "362  KBOI,KEUL,72681524106,BOII,72681394195,7268102...      0  \n",
       "363  KBOI,KEUL,72681524106,BOII,TT289,72681394195,7...      0  \n",
       "364  KBOI,KEUL,72681524106,TT289,72681394195,726810...      0  \n",
       "365  KBOI,KEUL,72681524106,BOII,TT289,72681394195,7...      0  \n",
       "\n",
       "[366 rows x 31 columns]"
      ]
     },
     "execution_count": 2,
     "metadata": {},
     "output_type": "execute_result"
    }
   ],
   "source": [
    "data = pd.read_csv(r'boise-weather-forecast-dataset.csv')\n",
    "df = pd.DataFrame(data, columns=['name','datetime','tempmax','tempmin','temp','feelslikemax','feelslikemin','feelslike','dew','humidity','precip','precipprob','precipcover','preciptype','snow','snowdepth','windgust','windspeed','winddir','sealevelpressure','cloudcover','visibility','solarradiation','solarenergy','uvindex','severerisk','sunrise','sunset','moonphase','conditions','description','icon','stations', 'label'])\n",
    "df.columns=['Name', 'Datetime', 'TempMax', 'TempMin', 'Temp', 'Feelslikemax', 'Feelslikemin' , 'Feelslike' , 'Dew' , 'Humidity' , 'Precip' , 'PrecipProb', 'PrecipCover', 'PrecipType', 'Snow' , 'SnowDepth', 'WindGust', 'WindSpeed' , 'WindDir', 'SeaLevelPressure', 'CloudCover', 'Visibility', 'SolarRadiation', 'SolarEnergy', 'UVIndex', 'SevereRisk', 'Sunrise', 'Sunset' , 'MoonPhase', 'Conditions', 'Description', 'Icon', 'Stations', 'Label']\n",
    "df = df.dropna(axis='columns')\n",
    "df"
   ]
  },
  {
   "cell_type": "code",
   "execution_count": 3,
   "id": "3d4c99cf",
   "metadata": {},
   "outputs": [
    {
     "data": {
      "text/plain": [
       "Name                0\n",
       "Datetime            0\n",
       "TempMax             0\n",
       "TempMin             0\n",
       "Temp                0\n",
       "Feelslikemax        0\n",
       "Feelslikemin        0\n",
       "Feelslike           0\n",
       "Dew                 0\n",
       "Humidity            0\n",
       "Precip              0\n",
       "PrecipProb          0\n",
       "PrecipCover         0\n",
       "Snow                0\n",
       "SnowDepth           0\n",
       "WindSpeed           0\n",
       "WindDir             0\n",
       "SeaLevelPressure    0\n",
       "CloudCover          0\n",
       "Visibility          0\n",
       "SolarRadiation      0\n",
       "SolarEnergy         0\n",
       "UVIndex             0\n",
       "Sunrise             0\n",
       "Sunset              0\n",
       "MoonPhase           0\n",
       "Conditions          0\n",
       "Description         0\n",
       "Icon                0\n",
       "Stations            0\n",
       "Label               0\n",
       "dtype: int64"
      ]
     },
     "execution_count": 3,
     "metadata": {},
     "output_type": "execute_result"
    }
   ],
   "source": [
    "df.isna().sum()"
   ]
  },
  {
   "cell_type": "code",
   "execution_count": 12,
   "id": "9d876b93",
   "metadata": {},
   "outputs": [],
   "source": [
    "feature_cols = ['Temp', 'Humidity', 'Feelslike', 'Precip', 'PrecipCover', 'PrecipProb', 'UVIndex']\n",
    "X = df[feature_cols]\n",
    "Y = df.Label\n",
    "X2 = df.Humidity.values.reshape(-1,1)"
   ]
  },
  {
   "cell_type": "code",
   "execution_count": 13,
   "id": "7334fed7",
   "metadata": {},
   "outputs": [
    {
     "data": {
      "image/png": "[encoded data removed]",
      "text/plain": [
       "<Figure size 640x480 with 1 Axes>"
      ]
     },
     "metadata": {},
     "output_type": "display_data"
    }
   ],
   "source": [
    "axes_subplot = sns.countplot(x=\"label\", data=data, color=\"pink\")"
   ]
  },
  {
   "cell_type": "markdown",
   "id": "acad6e2b",
   "metadata": {},
   "source": [
    "## Use Logistic Regression"
   ]
  },
  {
   "cell_type": "code",
   "execution_count": 14,
   "id": "0d157a98",
   "metadata": {},
   "outputs": [],
   "source": [
    "X_train,X_test,Y_train,Y_test=train_test_split(X, Y, test_size=0.3, random_state=25)\n",
    "logreg = LogisticRegression(max_iter=5000, C=1e9)\n",
    "logreg.fit(X_train,Y_train)\n",
    "Y_pred = logreg.predict(X_test)"
   ]
  },
  {
   "cell_type": "code",
   "execution_count": 15,
   "id": "9a342c2e",
   "metadata": {},
   "outputs": [
    {
     "data": {
      "text/plain": [
       "[]"
      ]
     },
     "execution_count": 15,
     "metadata": {},
     "output_type": "execute_result"
    },
    {
     "data": {
      "image/png": "[encoded data removed]",
      "text/plain": [
       "<Figure size 640x480 with 1 Axes>"
      ]
     },
     "metadata": {},
     "output_type": "display_data"
    }
   ],
   "source": [
    "sns.regplot(x=X_train.Humidity, y=Y_train, data=X_train, logistic = True, scatter_kws={\"color\": \"black\"}, line_kws={\"color\": \"pink\"})\n",
    "plt.plot()"
   ]
  },
  {
   "cell_type": "markdown",
   "id": "174fbc47",
   "metadata": {},
   "source": [
    "*We can conclude that, as logic tells us and the study confirms, the higher the humidity percentages, the higher the probability of rainfall.*"
   ]
  },
  {
   "cell_type": "code",
   "execution_count": 16,
   "id": "2b6aef26",
   "metadata": {},
   "outputs": [],
   "source": [
    "X_train_H,X_test_H,Y_train_H,Y_test_H=train_test_split(X2, Y, test_size=0.3, random_state=25)\n",
    "logreg = LogisticRegression(max_iter=5000, C=1e9)\n",
    "logreg.fit(X_train_H,Y_train_H)\n",
    "Y_pred_H = logreg.predict(X_test_H)"
   ]
  },
  {
   "cell_type": "code",
   "execution_count": 17,
   "id": "f3cd61d2",
   "metadata": {},
   "outputs": [
    {
     "data": {
      "text/plain": [
       "[]"
      ]
     },
     "execution_count": 17,
     "metadata": {},
     "output_type": "execute_result"
    },
    {
     "data": {
      "image/png": "[encoded data removed]",
      "text/plain": [
       "<Figure size 640x480 with 1 Axes>"
      ]
     },
     "metadata": {},
     "output_type": "display_data"
    }
   ],
   "source": [
    "sns.regplot(x=X_train_H, y=Y_train_H, data=X_train_H, logistic = True, scatter_kws={\"color\": \"black\"}, line_kws={\"color\": \"pink\"})\n",
    "plt.plot()"
   ]
  },
  {
   "cell_type": "markdown",
   "id": "bf13a88a",
   "metadata": {},
   "source": [
    "## How good is your model?"
   ]
  },
  {
   "cell_type": "code",
   "execution_count": 26,
   "id": "2482c7ca",
   "metadata": {
    "scrolled": true
   },
   "outputs": [
    {
     "name": "stdout",
     "output_type": "stream",
     "text": [
      "Accuracy: 1.0\n"
     ]
    }
   ],
   "source": [
    "#Model 1 taking into account all the parameters related or that influence or may have an impact on the prediction.\n",
    "print(\"Accuracy:\", metrics.accuracy_score(Y_test, Y_pred))\n",
    "#print(\"Score:\", logreg.score(X_test, Y_test))"
   ]
  },
  {
   "cell_type": "code",
   "execution_count": 27,
   "id": "dc9078f8",
   "metadata": {},
   "outputs": [
    {
     "name": "stdout",
     "output_type": "stream",
     "text": [
      "Accuracy: 0.7454545454545455\n",
      "Score: 0.7454545454545455\n"
     ]
    }
   ],
   "source": [
    "#Model 2, limiting only to humidity.\n",
    "print(\"Accuracy:\", metrics.accuracy_score(Y_test_H, Y_pred_H))\n",
    "print(\"Score:\", logreg.score(X_test_H, Y_test_H))"
   ]
  },
  {
   "cell_type": "markdown",
   "id": "07f0601a",
   "metadata": {},
   "source": [
    "*Accuracy levels are low. One idea would be to use the methods mentioned in class to increase the accuracy percentage by providing the model with more \"varied\" training data. Perhaps the algorithm has decided to omit the winter stage (a stage that is considerably important for predicting the probability of rain tomorrow). Some of these techniques are: K-folds Validation, Stratified K-fold Cross-Validation, Leave One Out Cross-Validation, or Repeated Random Test-Train Splits.*"
   ]
  }
 ],
 "metadata": {
  "kernelspec": {
   "display_name": "Python 3 (ipykernel)",
   "language": "python",
   "name": "python3"
  },
  "language_info": {
   "codemirror_mode": {
    "name": "ipython",
    "version": 3
   },
   "file_extension": ".py",
   "mimetype": "text/x-python",
   "name": "python",
   "nbconvert_exporter": "python",
   "pygments_lexer": "ipython3",
   "version": "3.10.0"
  }
 },
 "nbformat": 4,
 "nbformat_minor": 5
}
