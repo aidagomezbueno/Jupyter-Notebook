{
 "cells": [
  {
   "cell_type": "code",
   "execution_count": 172,
   "id": "a3052f5b",
   "metadata": {
    "scrolled": true
   },
   "outputs": [],
   "source": [
    "%matplotlib inline\n",
    "import numpy as np\n",
    "import matplotlib.pyplot as plt\n",
    "import pandas as pd\n",
    "import sklearn\n",
    "import seaborn as sns\n",
    "from sklearn.linear_model import LinearRegression"
   ]
  },
  {
   "cell_type": "code",
   "execution_count": 173,
   "id": "42b334a7",
   "metadata": {},
   "outputs": [],
   "source": [
    "#Getting a linear regression consists of 3 different stages.\n",
    "# 1. Analyzing the correlation and directionality of the data.\n",
    "# 2. Estimating the model by fitting the line.\n",
    "# 3. Evaluating the validity and usefulness of the model."
   ]
  },
  {
   "cell_type": "code",
   "execution_count": 174,
   "id": "30b0b931",
   "metadata": {},
   "outputs": [
    {
     "data": {
      "text/html": [
       "<div>\n",
       "<style scoped>\n",
       "    .dataframe tbody tr th:only-of-type {\n",
       "        vertical-align: middle;\n",
       "    }\n",
       "\n",
       "    .dataframe tbody tr th {\n",
       "        vertical-align: top;\n",
       "    }\n",
       "\n",
       "    .dataframe thead th {\n",
       "        text-align: right;\n",
       "    }\n",
       "</style>\n",
       "<table border=\"1\" class=\"dataframe\">\n",
       "  <thead>\n",
       "    <tr style=\"text-align: right;\">\n",
       "      <th></th>\n",
       "      <th>GPA</th>\n",
       "      <th>Hours Studied</th>\n",
       "    </tr>\n",
       "  </thead>\n",
       "  <tbody>\n",
       "    <tr>\n",
       "      <th>0</th>\n",
       "      <td>3.0</td>\n",
       "      <td>2</td>\n",
       "    </tr>\n",
       "    <tr>\n",
       "      <th>1</th>\n",
       "      <td>3.7</td>\n",
       "      <td>8</td>\n",
       "    </tr>\n",
       "    <tr>\n",
       "      <th>2</th>\n",
       "      <td>3.3</td>\n",
       "      <td>3</td>\n",
       "    </tr>\n",
       "    <tr>\n",
       "      <th>3</th>\n",
       "      <td>2.5</td>\n",
       "      <td>1</td>\n",
       "    </tr>\n",
       "    <tr>\n",
       "      <th>4</th>\n",
       "      <td>4.0</td>\n",
       "      <td>12</td>\n",
       "    </tr>\n",
       "    <tr>\n",
       "      <th>5</th>\n",
       "      <td>3.2</td>\n",
       "      <td>7</td>\n",
       "    </tr>\n",
       "    <tr>\n",
       "      <th>6</th>\n",
       "      <td>3.9</td>\n",
       "      <td>9</td>\n",
       "    </tr>\n",
       "    <tr>\n",
       "      <th>7</th>\n",
       "      <td>3.0</td>\n",
       "      <td>5</td>\n",
       "    </tr>\n",
       "  </tbody>\n",
       "</table>\n",
       "</div>"
      ],
      "text/plain": [
       "   GPA  Hours Studied\n",
       "0  3.0              2\n",
       "1  3.7              8\n",
       "2  3.3              3\n",
       "3  2.5              1\n",
       "4  4.0             12\n",
       "5  3.2              7\n",
       "6  3.9              9\n",
       "7  3.0              5"
      ]
     },
     "execution_count": 174,
     "metadata": {},
     "output_type": "execute_result"
    }
   ],
   "source": [
    "data = {'GPA': [3.0, 3.7, 3.3, 2.5, 4.0, 3.2, 3.9, 3.0], 'Hours Studied': [2, 8, 3, 1, 12, 7, 9, 5]}\n",
    "df = pd.DataFrame(data, columns = ['GPA', 'Hours Studied'])\n",
    "df"
   ]
  },
  {
   "cell_type": "code",
   "execution_count": 209,
   "id": "e377d4f9",
   "metadata": {},
   "outputs": [
    {
     "data": {
      "image/png": "[encoded data removed]",
      "text/plain": [
       "<Figure size 640x480 with 1 Axes>"
      ]
     },
     "metadata": {},
     "output_type": "display_data"
    },
    {
     "name": "stdout",
     "output_type": "stream",
     "text": [
      "0.8073802457380753\n"
     ]
    }
   ],
   "source": [
    "X = df['Hours Studied'].values.reshape(-1, 1)\n",
    "Y = df['GPA'].values.reshape(-1, 1)\n",
    "\n",
    "reg = LinearRegression()\n",
    "reg.fit(X, Y)\n",
    "\n",
    "b0 = reg.intercept_[0]\n",
    "b1 = reg.coef_[0][0]\n",
    "\n",
    "start = np.max(X)\n",
    "end = np.min(X)\n",
    "x = np.linspace(start, end) \n",
    "y = b0 + b1 * x\n",
    "\n",
    "plt.scatter(X, Y, color=\"black\", label='Data Points')\n",
    "plt.plot(x, y, color='#f492fc', linewidth=2, label='Linear Regression')\n",
    "\n",
    "plt.xlabel('Hours Studied') \n",
    "plt.ylabel('GPA')\n",
    "\n",
    "plt.legend()\n",
    "plt.show()"
   ]
  },
  {
   "cell_type": "code",
   "execution_count": 207,
   "id": "ccd5d84a",
   "metadata": {},
   "outputs": [
    {
     "name": "stdout",
     "output_type": "stream",
     "text": [
      "Root Mean Squared Error: 0.2102\n",
      "Mean Squared Error: 0.0442\n",
      "Mean Absolute Error: 0.0274\n"
     ]
    }
   ],
   "source": [
    "# Evaluate the model. There are several ways to measure and determine the accuracy of the model.\n",
    "# 1. Mean Absolute Error (MAE). Sum of all absolute errors of the calculated model divided by the number of samples in the model.\n",
    "# 2. Mean Squared Error (MSE). Sum of all differences between actual data and predictions (errors) squared.\n",
    "# 3. Root Mean Squared error (RMSE). Square root of the MSE result. \n",
    "# The lower the result, the higher the accuracy of the model.\n",
    "\n",
    "error = 0\n",
    "rmse = 0\n",
    "mae = 0\n",
    "mse = 0\n",
    "absError = 0\n",
    "n = len(X)\n",
    "for i in range(n):\n",
    "    y_pred = b1*X[i] + b0 #ŷ\n",
    "    error += (y_pred-Y[i])**2\n",
    "    absError = abs(y_pred-Y[i])\n",
    "rmse = np.sqrt(error/n)\n",
    "mse = error/n\n",
    "mae = absError/n\n",
    "\n",
    "print(f\"Root Mean Squared Error: %.4f\" % rmse)\n",
    "print(f\"Mean Squared Error: %.4f\" % mse)\n",
    "print(f\"Mean Absolute Error: %.4f\" % mae)"
   ]
  }
 ],
 "metadata": {
  "kernelspec": {
   "display_name": "Python 3 (ipykernel)",
   "language": "python",
   "name": "python3"
  },
  "language_info": {
   "codemirror_mode": {
    "name": "ipython",
    "version": 3
   },
   "file_extension": ".py",
   "mimetype": "text/x-python",
   "name": "python",
   "nbconvert_exporter": "python",
   "pygments_lexer": "ipython3",
   "version": "3.10.0"
  }
 },
 "nbformat": 4,
 "nbformat_minor": 5
}
